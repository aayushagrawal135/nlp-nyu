{
 "cells": [
  {
   "cell_type": "markdown",
   "metadata": {
    "id": "A4X-knG9Fcti"
   },
   "source": [
    "# Part 3: Neural Machine Translation (30 points)"
   ]
  },
  {
   "cell_type": "markdown",
   "metadata": {
    "id": "pSDk4QHcFpXH"
   },
   "source": [
    "## 1. Transformer Encoder (18 points)"
   ]
  },
  {
   "cell_type": "code",
   "execution_count": 32,
   "metadata": {},
   "outputs": [
    {
     "data": {
      "text/plain": [
       "44"
      ]
     },
     "execution_count": 32,
     "metadata": {},
     "output_type": "execute_result"
    }
   ],
   "source": [
    "import gc\n",
    "\n",
    "gc.collect()"
   ]
  },
  {
   "cell_type": "code",
   "execution_count": 7,
   "metadata": {
    "id": "Eyvrt2XTBbLq"
   },
   "outputs": [],
   "source": [
    "import sys\n",
    "import os\n",
    "\n",
    "PATH = \".\"\n",
    "# part1 = \"hw2-part1-bow_nli\"\n",
    "path_to_utils = 'pyfiles'\n",
    "\n",
    "new_path_to_utils = os.path.join(PATH, path_to_utils)\n",
    "\n",
    "sys.path.append(new_path_to_utils)"
   ]
  },
  {
   "cell_type": "code",
   "execution_count": 8,
   "metadata": {
    "id": "BXJkw2vxBB7T"
   },
   "outputs": [],
   "source": [
    "import global_variables\n",
    "import nmt_dataset\n",
    "import nnet_models_new"
   ]
  },
  {
   "cell_type": "code",
   "execution_count": 9,
   "metadata": {
    "id": "S2J2ozXlLa13"
   },
   "outputs": [],
   "source": [
    "import torch\n",
    "\n",
    "torch.manual_seed(0)\n",
    "device = torch.device(\"cuda\") if torch.cuda.is_available() else torch.device(\"cpu\")"
   ]
  },
  {
   "cell_type": "code",
   "execution_count": 10,
   "metadata": {
    "id": "_Rw4Vq0dChTN"
   },
   "outputs": [],
   "source": [
    "source_name = 'en'\n",
    "target_name = 'fr'\n",
    "\n",
    "base_saved_models_dir = '.'\n",
    "saved_models_dir = os.path.join(base_saved_models_dir, source_name+'2'+target_name)\n",
    "\n",
    "main_data_path = os.path.join(PATH, 'data')\n",
    "\n",
    "path_to_train_data = {'source': os.path.join(main_data_path, f\"train.{source_name}\"), \n",
    "                      'target': os.path.join(main_data_path, f\"train.{target_name}\")}\n",
    "path_to_val_data = {'source': os.path.join(main_data_path, f\"valid.{source_name}\"), \n",
    "                      'target': os.path.join(main_data_path, f\"valid.{target_name}\")}"
   ]
  },
  {
   "cell_type": "code",
   "execution_count": 11,
   "metadata": {
    "id": "Ew2RTIDiDGz9"
   },
   "outputs": [],
   "source": [
    "saved_language_model_dir = os.path.join(saved_models_dir, 'lang_obj')\n",
    "\n",
    "dataset_dict = {'train': nmt_dataset.LanguagePair(source_name = source_name, target_name=target_name, \n",
    "                    filepath = path_to_train_data, \n",
    "                    lang_obj_path = saved_language_model_dir,\n",
    "                     minimum_count = 1), \n",
    "\n",
    "                'val': nmt_dataset.LanguagePair(source_name = source_name, target_name=target_name, \n",
    "                    filepath = path_to_val_data, \n",
    "                    lang_obj_path = saved_language_model_dir,\n",
    "                    minimum_count = 1)}"
   ]
  },
  {
   "cell_type": "code",
   "execution_count": 12,
   "metadata": {
    "id": "H_CAtJD3FGJb"
   },
   "outputs": [],
   "source": [
    "MAX_LEN = int(dataset_dict['train'].main_df['source_len'].quantile(0.9999))\n",
    "batchSize = 1024"
   ]
  },
  {
   "cell_type": "code",
   "execution_count": 13,
   "metadata": {
    "id": "xK9DICCrFHVI"
   },
   "outputs": [],
   "source": [
    "from functools import partial\n",
    "from torch.utils.data import DataLoader\n",
    "\n",
    "dataloader_dict = {'train': DataLoader(dataset_dict['train'], batch_size = batchSize, \n",
    "                            collate_fn = partial(nmt_dataset.vocab_collate_func, MAX_LEN=MAX_LEN),\n",
    "                            shuffle = True, num_workers=0), \n",
    "                    'val': DataLoader(dataset_dict['val'], batch_size = batchSize, \n",
    "                            collate_fn = partial(nmt_dataset.vocab_collate_func, MAX_LEN=MAX_LEN),\n",
    "                            shuffle = True, num_workers=0) }"
   ]
  },
  {
   "cell_type": "code",
   "execution_count": 14,
   "metadata": {
    "id": "jNl5pbgnFREB"
   },
   "outputs": [],
   "source": [
    "# Configuration\n",
    "source_lang_obj = dataset_dict['train'].source_lang_obj\n",
    "target_lang_obj = dataset_dict['train'].target_lang_obj\n",
    "\n",
    "source_vocab = dataset_dict['train'].source_lang_obj.n_words\n",
    "target_vocab = dataset_dict['train'].target_lang_obj.n_words\n",
    "hidden_size = 512\n",
    "enc_layers = 1\n",
    "lr = 0.25\n",
    "longest_label = 1\n",
    "gradient_clip = 0.3\n",
    "use_cuda = True\n",
    "\n",
    "num_epochs = 20"
   ]
  },
  {
   "cell_type": "markdown",
   "metadata": {
    "id": "64YpUQn6HagP"
   },
   "source": [
    "### 1.1 Encoder"
   ]
  },
  {
   "cell_type": "code",
   "execution_count": 15,
   "metadata": {
    "id": "goI_VrYPHgiY"
   },
   "outputs": [],
   "source": [
    "import torch\n",
    "import torch.nn as nn\n",
    "from torch import Tensor\n",
    "import math"
   ]
  },
  {
   "cell_type": "markdown",
   "metadata": {
    "id": "y07kX1jVHkVC"
   },
   "source": [
    "#### Positional encoding"
   ]
  },
  {
   "cell_type": "code",
   "execution_count": 16,
   "metadata": {
    "id": "V1iF81npHnlq"
   },
   "outputs": [],
   "source": [
    "class PositionalEncoding(nn.Module):\n",
    "    def __init__(self, emb_size: int, dropout: float, maxlen: int = 5000):\n",
    "        super(PositionalEncoding, self).__init__()\n",
    "        den = torch.exp(-torch.arange(0, emb_size, 2) * math.log(10000) / emb_size)\n",
    "        pos = torch.arange(0, maxlen).reshape(maxlen, 1)\n",
    "        pos_embedding = torch.zeros((maxlen, emb_size))\n",
    "        pos_embedding[:, 0::2] = torch.sin(pos * den)\n",
    "        pos_embedding[:, 1::2] = torch.cos(pos * den)\n",
    "        pos_embedding = pos_embedding.unsqueeze(-2)\n",
    "\n",
    "        self.dropout = nn.Dropout(dropout)\n",
    "        self.register_buffer(\"pos_embedding\", pos_embedding)\n",
    "\n",
    "    def forward(self, token_embedding: Tensor):\n",
    "        return self.dropout(\n",
    "            token_embedding + self.pos_embedding[: token_embedding.size(0), :]\n",
    "        )"
   ]
  },
  {
   "cell_type": "markdown",
   "metadata": {
    "id": "8sXdMRkdHrZd"
   },
   "source": [
    "#### Token embedding"
   ]
  },
  {
   "cell_type": "code",
   "execution_count": 17,
   "metadata": {
    "id": "yjNh4OnvHspm"
   },
   "outputs": [],
   "source": [
    "class TokenEmbedding(nn.Module):\n",
    "    def __init__(self, vocab_size: int, emb_size):\n",
    "        super(TokenEmbedding, self).__init__()\n",
    "        self.embedding = nn.Embedding(vocab_size, emb_size)\n",
    "        self.emb_size = emb_size\n",
    "\n",
    "    # [size of tokens, emb_dim] * float value\n",
    "    def forward(self, tokens: Tensor):\n",
    "        return self.embedding(tokens.long()) * math.sqrt(self.emb_size)"
   ]
  },
  {
   "cell_type": "markdown",
   "metadata": {
    "id": "Sp-D4hpOHvLK"
   },
   "source": [
    "#### Transformer encoder"
   ]
  },
  {
   "cell_type": "code",
   "execution_count": 18,
   "metadata": {
    "id": "Qwqc1vQ_Hs9i"
   },
   "outputs": [],
   "source": [
    "class EncoderTransformer(nn.Module):\n",
    "    def __init__(\n",
    "        self, emb_size: int, vocab_size: int, n_head: int, dropout: float = 0.1\n",
    "    ):\n",
    "        super(EncoderTransformer, self).__init__()\n",
    "\n",
    "        self.embedding = TokenEmbedding(vocab_size, emb_size)\n",
    "        self.positional_encoding = PositionalEncoding(emb_size, dropout=dropout)\n",
    "        encoder_layer = nn.TransformerEncoderLayer(d_model=emb_size, nhead=n_head)\n",
    "        self.transformer = nn.TransformerEncoder(encoder_layer, num_layers=1)\n",
    "\n",
    "    def forward(self, input):\n",
    "        embedded_tokens = self.embedding(input)\n",
    "        positional_embedded_tokens = self.positional_encoding(embedded_tokens)\n",
    "        outs = self.transformer(positional_embedded_tokens)\n",
    "        hidden = outs.mean(dim=1).unsqueeze(dim=0)\n",
    "\n",
    "        return outs, hidden\n"
   ]
  },
  {
   "cell_type": "code",
   "execution_count": 19,
   "metadata": {
    "id": "S2v84XUtHxtO"
   },
   "outputs": [],
   "source": [
    "def get_encoder():\n",
    "    n_head = 2\n",
    "    src_emb_size = 512\n",
    "\n",
    "    return EncoderTransformer(\n",
    "        emb_size=src_emb_size,\n",
    "        vocab_size=source_vocab,\n",
    "        n_head=n_head\n",
    "    ).to(device)"
   ]
  },
  {
   "cell_type": "markdown",
   "metadata": {
    "id": "ExuUjMgMH1lG"
   },
   "source": [
    "### Decoder (9 points)"
   ]
  },
  {
   "cell_type": "code",
   "execution_count": 20,
   "metadata": {
    "id": "lBGCCG2UHzzd"
   },
   "outputs": [],
   "source": [
    "rnn_layers = 1\n",
    "hidden_size = 512\n",
    "target_vocab_size = dataset_dict[\"train\"].target_lang_obj.n_words\n",
    "lr = 0.01\n",
    "use_cuda = True\n",
    "epochs = 20\n"
   ]
  },
  {
   "cell_type": "code",
   "execution_count": 21,
   "metadata": {
    "id": "ZrJMEsRGH5VT"
   },
   "outputs": [],
   "source": [
    "# Basic RNN decoder (no attention)\n",
    "dec_rnn = nnet_models_new.DecoderRNN(\n",
    "    output_size=target_vocab_size,\n",
    "    hidden_size=hidden_size,\n",
    "    numlayers=rnn_layers\n",
    ").to(device)"
   ]
  },
  {
   "cell_type": "code",
   "execution_count": 22,
   "metadata": {
    "id": "0iqVTGyoH7EK"
   },
   "outputs": [],
   "source": [
    "# RNN Decoder with Encoder attention\n",
    "enc_attn_dec_rnn = nnet_models_new.Decoder_SelfAttn(\n",
    "        output_size=target_vocab_size,\n",
    "        hidden_size=hidden_size, \n",
    "        self_attention=False,\n",
    "        encoder_attention=True,\n",
    "    ).to(device)\n",
    " \n",
    "# \n",
    "# target_lang=dataset_dict['train'].target_lang_obj,\n",
    "# longest_label = longest_label,\n",
    "# clip = gradient_clip"
   ]
  },
  {
   "cell_type": "code",
   "execution_count": 23,
   "metadata": {
    "id": "QcZMR2pbH9Nb"
   },
   "outputs": [],
   "source": [
    "# RNN Decoder with Encoder & Self attention\n",
    "enc_attn_dec_rnn_self_attn = nnet_models_new.Decoder_SelfAttn(\n",
    "        output_size=target_vocab_size,\n",
    "        hidden_size=hidden_size,\n",
    "        self_attention=True,\n",
    "        encoder_attention=True,\n",
    "    ).to(device)"
   ]
  },
  {
   "cell_type": "markdown",
   "metadata": {
    "id": "ZPmrH0nzIBCI"
   },
   "source": [
    "#### Seq2Seq Models"
   ]
  },
  {
   "cell_type": "code",
   "execution_count": 50,
   "metadata": {
    "id": "HpaEsy7wH_Hf"
   },
   "outputs": [],
   "source": [
    "# Decoder RNN\n",
    "model1 = nnet_models_new.seq2seq(\n",
    "    encoder=get_encoder(),\n",
    "    decoder=dec_rnn,\n",
    "    target_lang=target_lang_obj,\n",
    "    lr = lr,\n",
    "    hiddensize = hidden_size,\n",
    "    numlayers = hidden_size\n",
    ")"
   ]
  },
  {
   "cell_type": "code",
   "execution_count": 51,
   "metadata": {
    "id": "4QUn6fmRIEwa"
   },
   "outputs": [],
   "source": [
    "# Encoder Attention - Decoder RNN\n",
    "model2 = nnet_models_new.seq2seq(\n",
    "    encoder=get_encoder(),\n",
    "    decoder=enc_attn_dec_rnn,\n",
    "    target_lang=target_lang_obj,\n",
    "    lr = lr,\n",
    "    hiddensize = hidden_size,\n",
    "    numlayers = hidden_size\n",
    ")"
   ]
  },
  {
   "cell_type": "code",
   "execution_count": 52,
   "metadata": {
    "id": "NHkrz4OIIF7V"
   },
   "outputs": [],
   "source": [
    "# Encoder Attention - Decoder RNN Self Attention\n",
    "model3 = nnet_models_new.seq2seq(\n",
    "    encoder=get_encoder(),\n",
    "    decoder=enc_attn_dec_rnn_self_attn,\n",
    "    target_lang=target_lang_obj,\n",
    "    lr = lr,\n",
    "    hiddensize = hidden_size,\n",
    "    numlayers = hidden_size\n",
    ")"
   ]
  },
  {
   "cell_type": "markdown",
   "metadata": {
    "id": "Nb4mg9X2IOdt"
   },
   "source": [
    "### Training and evaluation"
   ]
  },
  {
   "cell_type": "code",
   "execution_count": 53,
   "metadata": {
    "id": "Dlo4QIo-IHHY"
   },
   "outputs": [],
   "source": [
    "import time\n",
    "from tqdm import tqdm"
   ]
  },
  {
   "cell_type": "code",
   "execution_count": 54,
   "metadata": {
    "id": "Ui_E_n2YITRh"
   },
   "outputs": [],
   "source": [
    "def save_models(nmt_model, enc_type):\n",
    "    path = \"./results/part3/models\"\n",
    "    if not os.path.exists(path):\n",
    "        os.makedirs(path)\n",
    "    filename = \"nmt_enc_\" + enc_type + \"_dec_rnn.pth\"\n",
    "    torch.save(nmt_model, os.path.join(path, filename))\n",
    "\n",
    "def train_model(\n",
    "    dataloader, nmt, num_epochs=50, val_every=1, saved_model_path=\".\", enc_type=\"rnn\"\n",
    "):\n",
    "\n",
    "    epoch_losses = list()\n",
    "    bleu_scores = list()\n",
    "\n",
    "    best_bleu = -1\n",
    "    for epoch in range(num_epochs):\n",
    "\n",
    "        start = time.time()\n",
    "        running_loss = 0\n",
    "\n",
    "        print(\"Epoch: [{}/{}]\".format(epoch, num_epochs))\n",
    "\n",
    "        for i, data in tqdm(\n",
    "            enumerate(dataloader[\"train\"]), total=len(dataloader[\"train\"])\n",
    "        ):\n",
    "            _, curr_loss = nmt.train_step(data)\n",
    "            running_loss += curr_loss\n",
    "\n",
    "        epoch_loss = running_loss / len(dataloader[\"train\"])\n",
    "        epoch_losses.append(epoch_loss)\n",
    "\n",
    "        print(\n",
    "            \"epoch {} loss = {}, time = {}\".format(\n",
    "                epoch, epoch_loss, time.time() - start\n",
    "            )\n",
    "        )\n",
    "\n",
    "        val_bleu_score = nmt.get_bleu_score(dataloader[\"val\"])\n",
    "        bleu_scores.append(val_bleu_score)\n",
    "\n",
    "        sys.stdout.flush()\n",
    "        \n",
    "        if epoch % val_every == 0:\n",
    "            print(\"validation bleu: \", val_bleu_score)\n",
    "            sys.stdout.flush()\n",
    "\n",
    "            nmt.scheduler_step(val_bleu_score)\n",
    "\n",
    "            if val_bleu_score > best_bleu:\n",
    "                best_bleu = val_bleu_score\n",
    "                save_models(nmt, enc_type)\n",
    "\n",
    "        print(\"=\" * 50)\n",
    "\n",
    "    print(\"Training completed. Best BLEU is {}\".format(best_bleu))\n",
    "    return epoch_losses, bleu_scores\n"
   ]
  },
  {
   "cell_type": "code",
   "execution_count": 55,
   "metadata": {
    "id": "__iYux52IWrC"
   },
   "outputs": [
    {
     "name": "stdout",
     "output_type": "stream",
     "text": [
      "Epoch: [0/20]\n"
     ]
    },
    {
     "name": "stderr",
     "output_type": "stream",
     "text": [
      "100%|██████████| 903/903 [03:04<00:00,  4.88it/s]\n"
     ]
    },
    {
     "name": "stdout",
     "output_type": "stream",
     "text": [
      "epoch 0 loss = 2.4788487558217014, time = 184.88498973846436\n",
      "validation bleu:  0.8414027382744814\n",
      "==================================================\n",
      "Epoch: [1/20]\n"
     ]
    },
    {
     "name": "stderr",
     "output_type": "stream",
     "text": [
      "100%|██████████| 903/903 [03:00<00:00,  5.02it/s]\n"
     ]
    },
    {
     "name": "stdout",
     "output_type": "stream",
     "text": [
      "epoch 1 loss = 1.7193148736805879, time = 180.05086541175842\n",
      "validation bleu:  2.521539817410693\n",
      "==================================================\n",
      "Epoch: [2/20]\n"
     ]
    },
    {
     "name": "stderr",
     "output_type": "stream",
     "text": [
      "100%|██████████| 903/903 [03:00<00:00,  5.01it/s]\n"
     ]
    },
    {
     "name": "stdout",
     "output_type": "stream",
     "text": [
      "epoch 2 loss = 1.5471271377465257, time = 180.1468551158905\n",
      "validation bleu:  3.9005288918477232\n",
      "==================================================\n",
      "Epoch: [3/20]\n"
     ]
    },
    {
     "name": "stderr",
     "output_type": "stream",
     "text": [
      "100%|██████████| 903/903 [03:00<00:00,  5.01it/s]\n"
     ]
    },
    {
     "name": "stdout",
     "output_type": "stream",
     "text": [
      "epoch 3 loss = 1.4297666751665135, time = 180.20556926727295\n",
      "validation bleu:  5.588337306799697\n",
      "==================================================\n",
      "Epoch: [4/20]\n"
     ]
    },
    {
     "name": "stderr",
     "output_type": "stream",
     "text": [
      "100%|██████████| 903/903 [03:00<00:00,  5.01it/s]\n"
     ]
    },
    {
     "name": "stdout",
     "output_type": "stream",
     "text": [
      "epoch 4 loss = 1.3401766958030752, time = 180.17118644714355\n",
      "validation bleu:  6.818778500501381\n",
      "==================================================\n",
      "Epoch: [5/20]\n"
     ]
    },
    {
     "name": "stderr",
     "output_type": "stream",
     "text": [
      "100%|██████████| 903/903 [03:00<00:00,  5.01it/s]\n"
     ]
    },
    {
     "name": "stdout",
     "output_type": "stream",
     "text": [
      "epoch 5 loss = 1.2656132285117048, time = 180.3040041923523\n",
      "validation bleu:  7.955441757417658\n",
      "==================================================\n",
      "Epoch: [6/20]\n"
     ]
    },
    {
     "name": "stderr",
     "output_type": "stream",
     "text": [
      "100%|██████████| 903/903 [03:00<00:00,  5.01it/s]\n"
     ]
    },
    {
     "name": "stdout",
     "output_type": "stream",
     "text": [
      "epoch 6 loss = 1.2107043975215417, time = 180.16247510910034\n",
      "validation bleu:  9.444447386177043\n",
      "==================================================\n",
      "Epoch: [7/20]\n"
     ]
    },
    {
     "name": "stderr",
     "output_type": "stream",
     "text": [
      "100%|██████████| 903/903 [03:00<00:00,  5.01it/s]\n"
     ]
    },
    {
     "name": "stdout",
     "output_type": "stream",
     "text": [
      "epoch 7 loss = 1.1542114064278926, time = 180.19342613220215\n",
      "validation bleu:  10.49315051518233\n",
      "==================================================\n",
      "Epoch: [8/20]\n"
     ]
    },
    {
     "name": "stderr",
     "output_type": "stream",
     "text": [
      "100%|██████████| 903/903 [03:00<00:00,  5.01it/s]\n"
     ]
    },
    {
     "name": "stdout",
     "output_type": "stream",
     "text": [
      "epoch 8 loss = 1.09909272636158, time = 180.32004165649414\n",
      "validation bleu:  11.141124099904365\n",
      "==================================================\n",
      "Epoch: [9/20]\n"
     ]
    },
    {
     "name": "stderr",
     "output_type": "stream",
     "text": [
      "100%|██████████| 903/903 [03:00<00:00,  5.01it/s]\n"
     ]
    },
    {
     "name": "stdout",
     "output_type": "stream",
     "text": [
      "epoch 9 loss = 1.0560478269723828, time = 180.29728960990906\n",
      "validation bleu:  12.4719469203077\n",
      "==================================================\n",
      "Epoch: [10/20]\n"
     ]
    },
    {
     "name": "stderr",
     "output_type": "stream",
     "text": [
      "100%|██████████| 903/903 [03:00<00:00,  5.01it/s]\n"
     ]
    },
    {
     "name": "stdout",
     "output_type": "stream",
     "text": [
      "epoch 10 loss = 1.0190593216110306, time = 180.29223370552063\n",
      "validation bleu:  12.772753270624598\n",
      "==================================================\n",
      "Epoch: [11/20]\n"
     ]
    },
    {
     "name": "stderr",
     "output_type": "stream",
     "text": [
      "100%|██████████| 903/903 [03:00<00:00,  5.01it/s]\n"
     ]
    },
    {
     "name": "stdout",
     "output_type": "stream",
     "text": [
      "epoch 11 loss = 0.9802152711159631, time = 180.22376441955566\n",
      "validation bleu:  13.936820647538662\n",
      "==================================================\n",
      "Epoch: [12/20]\n"
     ]
    },
    {
     "name": "stderr",
     "output_type": "stream",
     "text": [
      "100%|██████████| 903/903 [03:00<00:00,  5.01it/s]\n"
     ]
    },
    {
     "name": "stdout",
     "output_type": "stream",
     "text": [
      "epoch 12 loss = 0.9449367997786268, time = 180.36418104171753\n",
      "validation bleu:  14.829258261139996\n",
      "==================================================\n",
      "Epoch: [13/20]\n"
     ]
    },
    {
     "name": "stderr",
     "output_type": "stream",
     "text": [
      "100%|██████████| 903/903 [03:00<00:00,  5.01it/s]\n"
     ]
    },
    {
     "name": "stdout",
     "output_type": "stream",
     "text": [
      "epoch 13 loss = 0.9136295486262206, time = 180.30983304977417\n",
      "validation bleu:  15.917296692428593\n",
      "==================================================\n",
      "Epoch: [14/20]\n"
     ]
    },
    {
     "name": "stderr",
     "output_type": "stream",
     "text": [
      "100%|██████████| 903/903 [03:00<00:00,  5.01it/s]\n"
     ]
    },
    {
     "name": "stdout",
     "output_type": "stream",
     "text": [
      "epoch 14 loss = 0.8832030416459076, time = 180.30967473983765\n",
      "validation bleu:  16.333823174329307\n",
      "==================================================\n",
      "Epoch: [15/20]\n"
     ]
    },
    {
     "name": "stderr",
     "output_type": "stream",
     "text": [
      "100%|██████████| 903/903 [03:00<00:00,  5.01it/s]\n"
     ]
    },
    {
     "name": "stdout",
     "output_type": "stream",
     "text": [
      "epoch 15 loss = 0.8569675392882768, time = 180.32672119140625\n",
      "validation bleu:  16.997930271587148\n",
      "==================================================\n",
      "Epoch: [16/20]\n"
     ]
    },
    {
     "name": "stderr",
     "output_type": "stream",
     "text": [
      "100%|██████████| 903/903 [03:00<00:00,  5.01it/s]\n"
     ]
    },
    {
     "name": "stdout",
     "output_type": "stream",
     "text": [
      "epoch 16 loss = 0.8330782475661598, time = 180.3126015663147\n",
      "validation bleu:  17.392405795853747\n",
      "==================================================\n",
      "Epoch: [17/20]\n"
     ]
    },
    {
     "name": "stderr",
     "output_type": "stream",
     "text": [
      "100%|██████████| 903/903 [03:00<00:00,  5.01it/s]\n"
     ]
    },
    {
     "name": "stdout",
     "output_type": "stream",
     "text": [
      "epoch 17 loss = 0.8101294263784804, time = 180.23449325561523\n",
      "validation bleu:  18.352793461005458\n",
      "==================================================\n",
      "Epoch: [18/20]\n"
     ]
    },
    {
     "name": "stderr",
     "output_type": "stream",
     "text": [
      "100%|██████████| 903/903 [03:00<00:00,  5.01it/s]\n"
     ]
    },
    {
     "name": "stdout",
     "output_type": "stream",
     "text": [
      "epoch 18 loss = 0.7856334660734449, time = 180.3032932281494\n",
      "validation bleu:  18.38130217766168\n",
      "==================================================\n",
      "Epoch: [19/20]\n"
     ]
    },
    {
     "name": "stderr",
     "output_type": "stream",
     "text": [
      "100%|██████████| 903/903 [03:00<00:00,  5.01it/s]\n"
     ]
    },
    {
     "name": "stdout",
     "output_type": "stream",
     "text": [
      "epoch 19 loss = 0.7634698930108798, time = 180.34588313102722\n",
      "validation bleu:  19.30860443739976\n",
      "==================================================\n",
      "Training completed. Best BLEU is 19.30860443739976\n"
     ]
    }
   ],
   "source": [
    "epoch_losses1, bleu_scores1 = train_model(dataloader=dataloader_dict, nmt=model1, num_epochs=20, enc_type=\"rnn\")"
   ]
  },
  {
   "cell_type": "code",
   "execution_count": 56,
   "metadata": {
    "colab": {
     "base_uri": "https://localhost:8080/"
    },
    "id": "tyDn93_5hhrr",
    "outputId": "2a86ab0e-72e0-42f2-df18-9cc3f131cfbe"
   },
   "outputs": [
    {
     "name": "stdout",
     "output_type": "stream",
     "text": [
      "Epoch: [0/20]\n"
     ]
    },
    {
     "name": "stderr",
     "output_type": "stream",
     "text": [
      "100%|██████████| 903/903 [05:23<00:00,  2.79it/s]\n"
     ]
    },
    {
     "name": "stdout",
     "output_type": "stream",
     "text": [
      "epoch 0 loss = 2.5184361402642557, time = 323.8425087928772\n",
      "validation bleu:  1.0095983078795603\n",
      "==================================================\n",
      "Epoch: [1/20]\n"
     ]
    },
    {
     "name": "stderr",
     "output_type": "stream",
     "text": [
      "100%|██████████| 903/903 [05:18<00:00,  2.83it/s]\n"
     ]
    },
    {
     "name": "stdout",
     "output_type": "stream",
     "text": [
      "epoch 1 loss = 1.8211936326253981, time = 318.98900032043457\n",
      "validation bleu:  1.6631927368123043\n",
      "==================================================\n",
      "Epoch: [2/20]\n"
     ]
    },
    {
     "name": "stderr",
     "output_type": "stream",
     "text": [
      "100%|██████████| 903/903 [05:19<00:00,  2.82it/s]\n"
     ]
    },
    {
     "name": "stdout",
     "output_type": "stream",
     "text": [
      "epoch 2 loss = 1.6580705747651896, time = 319.69283080101013\n",
      "validation bleu:  2.6185809647818945\n",
      "==================================================\n",
      "Epoch: [3/20]\n"
     ]
    },
    {
     "name": "stderr",
     "output_type": "stream",
     "text": [
      "100%|██████████| 903/903 [05:19<00:00,  2.82it/s]\n"
     ]
    },
    {
     "name": "stdout",
     "output_type": "stream",
     "text": [
      "epoch 3 loss = 1.5416196473809176, time = 319.7763707637787\n",
      "validation bleu:  3.6022554164575906\n",
      "==================================================\n",
      "Epoch: [4/20]\n"
     ]
    },
    {
     "name": "stderr",
     "output_type": "stream",
     "text": [
      "100%|██████████| 903/903 [05:18<00:00,  2.83it/s]\n"
     ]
    },
    {
     "name": "stdout",
     "output_type": "stream",
     "text": [
      "epoch 4 loss = 1.4581098131431165, time = 318.9794850349426\n",
      "validation bleu:  5.116509554717155\n",
      "==================================================\n",
      "Epoch: [5/20]\n"
     ]
    },
    {
     "name": "stderr",
     "output_type": "stream",
     "text": [
      "100%|██████████| 903/903 [05:19<00:00,  2.82it/s]\n"
     ]
    },
    {
     "name": "stdout",
     "output_type": "stream",
     "text": [
      "epoch 5 loss = 1.3867611140507796, time = 319.856835603714\n",
      "validation bleu:  6.224091998926953\n",
      "==================================================\n",
      "Epoch: [6/20]\n"
     ]
    },
    {
     "name": "stderr",
     "output_type": "stream",
     "text": [
      "100%|██████████| 903/903 [05:18<00:00,  2.83it/s]\n"
     ]
    },
    {
     "name": "stdout",
     "output_type": "stream",
     "text": [
      "epoch 6 loss = 1.3292331779385986, time = 318.7007520198822\n",
      "validation bleu:  6.644395662433681\n",
      "==================================================\n",
      "Epoch: [7/20]\n"
     ]
    },
    {
     "name": "stderr",
     "output_type": "stream",
     "text": [
      "100%|██████████| 903/903 [05:20<00:00,  2.82it/s]\n"
     ]
    },
    {
     "name": "stdout",
     "output_type": "stream",
     "text": [
      "epoch 7 loss = 1.2720555403699907, time = 320.0831968784332\n",
      "validation bleu:  7.879066564891741\n",
      "==================================================\n",
      "Epoch: [8/20]\n"
     ]
    },
    {
     "name": "stderr",
     "output_type": "stream",
     "text": [
      "100%|██████████| 903/903 [05:20<00:00,  2.82it/s]\n"
     ]
    },
    {
     "name": "stdout",
     "output_type": "stream",
     "text": [
      "epoch 8 loss = 1.2260481688799387, time = 320.120689868927\n",
      "validation bleu:  8.408815957018751\n",
      "==================================================\n",
      "Epoch: [9/20]\n"
     ]
    },
    {
     "name": "stderr",
     "output_type": "stream",
     "text": [
      "100%|██████████| 903/903 [05:19<00:00,  2.82it/s]\n"
     ]
    },
    {
     "name": "stdout",
     "output_type": "stream",
     "text": [
      "epoch 9 loss = 1.1862781961362887, time = 319.9045617580414\n",
      "validation bleu:  8.519186904894163\n",
      "==================================================\n",
      "Epoch: [10/20]\n"
     ]
    },
    {
     "name": "stderr",
     "output_type": "stream",
     "text": [
      "100%|██████████| 903/903 [05:01<00:00,  2.99it/s]\n"
     ]
    },
    {
     "name": "stdout",
     "output_type": "stream",
     "text": [
      "epoch 10 loss = 1.1449026792812453, time = 301.99937558174133\n",
      "validation bleu:  9.657992910028039\n",
      "==================================================\n",
      "Epoch: [11/20]\n"
     ]
    },
    {
     "name": "stderr",
     "output_type": "stream",
     "text": [
      "100%|██████████| 903/903 [05:19<00:00,  2.82it/s]\n"
     ]
    },
    {
     "name": "stdout",
     "output_type": "stream",
     "text": [
      "epoch 11 loss = 1.1103190309713582, time = 319.7403781414032\n",
      "validation bleu:  10.60488922049351\n",
      "==================================================\n",
      "Epoch: [12/20]\n"
     ]
    },
    {
     "name": "stderr",
     "output_type": "stream",
     "text": [
      "100%|██████████| 903/903 [05:19<00:00,  2.83it/s]\n"
     ]
    },
    {
     "name": "stdout",
     "output_type": "stream",
     "text": [
      "epoch 12 loss = 1.0818409655049261, time = 319.0589921474457\n",
      "validation bleu:  10.966371141801394\n",
      "==================================================\n",
      "Epoch: [13/20]\n"
     ]
    },
    {
     "name": "stderr",
     "output_type": "stream",
     "text": [
      "100%|██████████| 903/903 [04:55<00:00,  3.05it/s]\n"
     ]
    },
    {
     "name": "stdout",
     "output_type": "stream",
     "text": [
      "epoch 13 loss = 1.04531364405274, time = 295.97315740585327\n",
      "validation bleu:  12.036744386238905\n",
      "==================================================\n",
      "Epoch: [14/20]\n"
     ]
    },
    {
     "name": "stderr",
     "output_type": "stream",
     "text": [
      "100%|██████████| 903/903 [05:19<00:00,  2.82it/s]\n"
     ]
    },
    {
     "name": "stdout",
     "output_type": "stream",
     "text": [
      "epoch 14 loss = 1.0161586092952082, time = 319.8248596191406\n",
      "validation bleu:  12.576998841093056\n",
      "==================================================\n",
      "Epoch: [15/20]\n"
     ]
    },
    {
     "name": "stderr",
     "output_type": "stream",
     "text": [
      "100%|██████████| 903/903 [05:21<00:00,  2.81it/s]\n"
     ]
    },
    {
     "name": "stdout",
     "output_type": "stream",
     "text": [
      "epoch 15 loss = 0.9855668515065976, time = 321.7123749256134\n",
      "validation bleu:  13.196817788884905\n",
      "==================================================\n",
      "Epoch: [16/20]\n"
     ]
    },
    {
     "name": "stderr",
     "output_type": "stream",
     "text": [
      "100%|██████████| 903/903 [05:22<00:00,  2.80it/s]\n"
     ]
    },
    {
     "name": "stdout",
     "output_type": "stream",
     "text": [
      "epoch 16 loss = 0.9576858616746541, time = 322.38038182258606\n",
      "validation bleu:  13.885326908039733\n",
      "==================================================\n",
      "Epoch: [17/20]\n"
     ]
    },
    {
     "name": "stderr",
     "output_type": "stream",
     "text": [
      "100%|██████████| 903/903 [05:21<00:00,  2.81it/s]\n"
     ]
    },
    {
     "name": "stdout",
     "output_type": "stream",
     "text": [
      "epoch 17 loss = 0.9324022659563675, time = 321.8498923778534\n",
      "validation bleu:  14.497915546775292\n",
      "==================================================\n",
      "Epoch: [18/20]\n"
     ]
    },
    {
     "name": "stderr",
     "output_type": "stream",
     "text": [
      "100%|██████████| 903/903 [05:20<00:00,  2.81it/s]\n"
     ]
    },
    {
     "name": "stdout",
     "output_type": "stream",
     "text": [
      "epoch 18 loss = 0.9128769559585639, time = 320.8040494918823\n",
      "validation bleu:  15.354768903970488\n",
      "==================================================\n",
      "Epoch: [19/20]\n"
     ]
    },
    {
     "name": "stderr",
     "output_type": "stream",
     "text": [
      "100%|██████████| 903/903 [05:20<00:00,  2.82it/s]\n"
     ]
    },
    {
     "name": "stdout",
     "output_type": "stream",
     "text": [
      "epoch 19 loss = 0.8914321307856116, time = 320.6550061702728\n",
      "validation bleu:  15.809384792149263\n",
      "==================================================\n",
      "Training completed. Best BLEU is 15.809384792149263\n"
     ]
    }
   ],
   "source": [
    "epoch_losses2, bleu_scores2 = train_model(dataloader=dataloader_dict, nmt=model2, num_epochs=20, enc_type=\"rnn_attn\")"
   ]
  },
  {
   "cell_type": "code",
   "execution_count": null,
   "metadata": {
    "id": "6pcz0yMIiOXl"
   },
   "outputs": [
    {
     "name": "stdout",
     "output_type": "stream",
     "text": [
      "Epoch: [0/20]\n"
     ]
    },
    {
     "name": "stderr",
     "output_type": "stream",
     "text": [
      "100%|██████████| 903/903 [05:27<00:00,  2.75it/s]\n"
     ]
    },
    {
     "name": "stdout",
     "output_type": "stream",
     "text": [
      "epoch 0 loss = 1.613760178799381, time = 327.92184495925903\n",
      "validation bleu:  3.940948333081859\n",
      "==================================================\n",
      "Epoch: [1/20]\n"
     ]
    },
    {
     "name": "stderr",
     "output_type": "stream",
     "text": [
      "100%|██████████| 903/903 [05:28<00:00,  2.75it/s]\n"
     ]
    },
    {
     "name": "stdout",
     "output_type": "stream",
     "text": [
      "epoch 1 loss = 1.5032738663693468, time = 328.09890937805176\n",
      "validation bleu:  4.689908579787515\n",
      "==================================================\n",
      "Epoch: [2/20]\n"
     ]
    },
    {
     "name": "stderr",
     "output_type": "stream",
     "text": [
      "100%|██████████| 903/903 [05:28<00:00,  2.75it/s]\n"
     ]
    },
    {
     "name": "stdout",
     "output_type": "stream",
     "text": [
      "epoch 2 loss = 1.4242889830308367, time = 328.77898716926575\n",
      "validation bleu:  5.870511003989808\n",
      "==================================================\n",
      "Epoch: [3/20]\n"
     ]
    },
    {
     "name": "stderr",
     "output_type": "stream",
     "text": [
      "100%|██████████| 903/903 [05:27<00:00,  2.75it/s]\n"
     ]
    },
    {
     "name": "stdout",
     "output_type": "stream",
     "text": [
      "epoch 3 loss = 1.364083934859976, time = 327.7711937427521\n",
      "validation bleu:  6.860385371220207\n",
      "==================================================\n",
      "Epoch: [4/20]\n"
     ]
    },
    {
     "name": "stderr",
     "output_type": "stream",
     "text": [
      "100%|██████████| 903/903 [05:28<00:00,  2.75it/s]\n"
     ]
    },
    {
     "name": "stdout",
     "output_type": "stream",
     "text": [
      "epoch 4 loss = 1.3011667763407972, time = 328.3767249584198\n",
      "validation bleu:  7.892829074325486\n",
      "==================================================\n",
      "Epoch: [5/20]\n"
     ]
    },
    {
     "name": "stderr",
     "output_type": "stream",
     "text": [
      "100%|██████████| 903/903 [05:28<00:00,  2.75it/s]\n"
     ]
    },
    {
     "name": "stdout",
     "output_type": "stream",
     "text": [
      "epoch 5 loss = 1.2461982134436715, time = 328.83016538619995\n",
      "validation bleu:  9.121874079664051\n",
      "==================================================\n",
      "Epoch: [6/20]\n"
     ]
    },
    {
     "name": "stderr",
     "output_type": "stream",
     "text": [
      "100%|██████████| 903/903 [05:28<00:00,  2.75it/s]\n"
     ]
    },
    {
     "name": "stdout",
     "output_type": "stream",
     "text": [
      "epoch 6 loss = 1.1980890682501386, time = 328.7175874710083\n",
      "validation bleu:  9.858055611395933\n",
      "==================================================\n",
      "Epoch: [7/20]\n"
     ]
    },
    {
     "name": "stderr",
     "output_type": "stream",
     "text": [
      "100%|██████████| 903/903 [05:28<00:00,  2.75it/s]\n"
     ]
    },
    {
     "name": "stdout",
     "output_type": "stream",
     "text": [
      "epoch 7 loss = 1.152898799211348, time = 328.7536709308624\n",
      "validation bleu:  10.9373048846712\n",
      "==================================================\n",
      "Epoch: [8/20]\n"
     ]
    },
    {
     "name": "stderr",
     "output_type": "stream",
     "text": [
      "100%|██████████| 903/903 [05:28<00:00,  2.75it/s]\n"
     ]
    },
    {
     "name": "stdout",
     "output_type": "stream",
     "text": [
      "epoch 8 loss = 1.1143060527238602, time = 328.6188426017761\n",
      "validation bleu:  11.891298271664716\n",
      "==================================================\n",
      "Epoch: [9/20]\n"
     ]
    },
    {
     "name": "stderr",
     "output_type": "stream",
     "text": [
      "100%|██████████| 903/903 [05:28<00:00,  2.75it/s]\n"
     ]
    },
    {
     "name": "stdout",
     "output_type": "stream",
     "text": [
      "epoch 9 loss = 1.0797682112105529, time = 328.12601685523987\n",
      "validation bleu:  12.839933808318905\n",
      "==================================================\n",
      "Epoch: [10/20]\n"
     ]
    },
    {
     "name": "stderr",
     "output_type": "stream",
     "text": [
      "100%|██████████| 903/903 [05:28<00:00,  2.75it/s]\n"
     ]
    },
    {
     "name": "stdout",
     "output_type": "stream",
     "text": [
      "epoch 10 loss = 1.0401352778621686, time = 328.45200514793396\n",
      "validation bleu:  13.726489303953686\n",
      "==================================================\n",
      "Epoch: [11/20]\n"
     ]
    },
    {
     "name": "stderr",
     "output_type": "stream",
     "text": [
      "100%|██████████| 903/903 [05:26<00:00,  2.76it/s]\n"
     ]
    },
    {
     "name": "stdout",
     "output_type": "stream",
     "text": [
      "epoch 11 loss = 1.0135531291481137, time = 326.98794651031494\n",
      "validation bleu:  14.07511242390332\n",
      "==================================================\n",
      "Epoch: [12/20]\n"
     ]
    },
    {
     "name": "stderr",
     "output_type": "stream",
     "text": [
      "100%|██████████| 903/903 [05:28<00:00,  2.75it/s]\n"
     ]
    },
    {
     "name": "stdout",
     "output_type": "stream",
     "text": [
      "epoch 12 loss = 0.9812172471750878, time = 328.2261006832123\n",
      "validation bleu:  15.129475889546327\n",
      "==================================================\n",
      "Epoch: [13/20]\n"
     ]
    },
    {
     "name": "stderr",
     "output_type": "stream",
     "text": [
      "100%|██████████| 903/903 [05:30<00:00,  2.74it/s]\n"
     ]
    },
    {
     "name": "stdout",
     "output_type": "stream",
     "text": [
      "epoch 13 loss = 0.9476276164831117, time = 330.1407904624939\n",
      "validation bleu:  15.586564047479442\n",
      "==================================================\n",
      "Epoch: [14/20]\n"
     ]
    },
    {
     "name": "stderr",
     "output_type": "stream",
     "text": [
      " 70%|██████▉   | 628/903 [03:49<01:52,  2.44it/s]"
     ]
    }
   ],
   "source": [
    "epoch_losses3, bleu_scores3 = train_model(dataloader=dataloader_dict, nmt=model3, num_epochs=20, enc_type=\"rnn_self_attn\")"
   ]
  },
  {
   "cell_type": "code",
   "execution_count": 4,
   "metadata": {},
   "outputs": [],
   "source": [
    "import matplotlib.pyplot as plt\n",
    "import os"
   ]
  },
  {
   "cell_type": "code",
   "execution_count": 5,
   "metadata": {
    "id": "R6TcAcrGP-rZ"
   },
   "outputs": [
    {
     "data": {
      "image/png": "[encoded data removed]",
      "text/plain": [
       "<Figure size 432x288 with 1 Axes>"
      ]
     },
     "metadata": {
      "needs_background": "light"
     },
     "output_type": "display_data"
    }
   ],
   "source": [
    "x = range(1, len(epoch_losses1)+1)\n",
    "plt.plot(x, epoch_losses1, label=\"enc-dec\")\n",
    "plt.plot(x, epoch_losses2, label=\"enc-attn-dec\")\n",
    "plt.plot(x, epoch_losses3 + [None] * (len(epoch_losses2) - len(epoch_losses3)), label=\"enc-attn-dec-self-attn\")\n",
    "plt.xlabel(\"Epoch\")\n",
    "plt.ylabel(\"Train loss\")\n",
    "path = os.path.join(\".\", \"results\", \"part3\", \"images\", \"train_loss\")\n",
    "plt.title(path)\n",
    "plt.legend(loc=\"upper right\")\n",
    "plt.show()"
   ]
  },
  {
   "cell_type": "code",
   "execution_count": 6,
   "metadata": {
    "id": "g_mpDeVARZi8"
   },
   "outputs": [
    {
     "data": {
      "image/png": "[encoded data removed]",
      "text/plain": [
       "<Figure size 432x288 with 1 Axes>"
      ]
     },
     "metadata": {
      "needs_background": "light"
     },
     "output_type": "display_data"
    }
   ],
   "source": [
    "x = range(1, len(bleu_scores1)+1)\n",
    "plt.plot(x, bleu_scores1, label=\"enc-dec\")\n",
    "plt.plot(x, bleu_scores2, label=\"enc-attn-dec\")\n",
    "plt.plot(x, bleu_scores3 + [None] * (len(bleu_scores2) - len(bleu_scores3)), label=\"enc-attn-dec-self-attn\")\n",
    "plt.xlabel(\"Epoch\")\n",
    "plt.ylabel(\"BLEU Scores\")\n",
    "path = os.path.join(\".\", \"results\", \"part3\", \"images\", \"bleu_scores\")\n",
    "plt.title(path)\n",
    "plt.legend(loc=\"upper left\")\n",
    "plt.show()"
   ]
  },
  {
   "cell_type": "markdown",
   "metadata": {
    "id": "k4U0Lrp9IaNV"
   },
   "source": [
    "## 2. Attention Visualization"
   ]
  },
  {
   "cell_type": "code",
   "execution_count": null,
   "metadata": {
    "id": "084FirkRIqAy"
   },
   "outputs": [],
   "source": [
    "# !pip install googletrans==4.0.0-rc1"
   ]
  },
  {
   "cell_type": "code",
   "execution_count": 25,
   "metadata": {
    "id": "9eqZ6xumIdmz"
   },
   "outputs": [],
   "source": [
    "import copy\n",
    "import numpy as np\n",
    "from collections import namedtuple\n",
    "\n",
    "import matplotlib.pyplot as plt\n",
    "import matplotlib.ticker as ticker"
   ]
  },
  {
   "cell_type": "code",
   "execution_count": 26,
   "metadata": {
    "id": "MW1hucz4Ifbd"
   },
   "outputs": [],
   "source": [
    "def get_encoded_batch(sentence, lang_obj, use_cuda):\n",
    "    \"\"\"accepts only bsz = 1.\n",
    "    input: one sentence as a string\n",
    "    output: named tuple with vector and length\"\"\"\n",
    "\n",
    "    sentence = sentence + \" \" + global_variables.EOS_TOKEN\n",
    "    tensor = source_lang_obj.txt2vec(sentence).unsqueeze(0)\n",
    "\n",
    "    device = (\n",
    "        torch.device(\"cuda\")\n",
    "        if use_cuda and torch.cuda.is_available()\n",
    "        else torch.device(\"cpu\")\n",
    "    )\n",
    "\n",
    "    named_returntuple = namedtuple(\n",
    "        \"namedtuple\",\n",
    "        [\"text_vecs\", \"text_lens\", \"label_vecs\", \"label_lens\", \"use_packed\"],\n",
    "    )\n",
    "    return_tuple = named_returntuple(\n",
    "        tensor.to(device),\n",
    "        torch.from_numpy(np.array([tensor.shape[-1]])).to(device),\n",
    "        None,\n",
    "        None,\n",
    "        False,\n",
    "    )\n",
    "    return return_tuple\n",
    "\n",
    "\n",
    "def get_translation(nmt_model, sentence, lang_obj, use_cuda, title):\n",
    "    print(\"source: \", sentence)\n",
    "    batch = get_encoded_batch(sentence, lang_obj, use_cuda)\n",
    "    prediction, attn_scores_list = nmt_model.eval_step(batch, return_attn=True)\n",
    "    prediction = prediction[0]\n",
    "    print(\"prediction: \", prediction)\n",
    "    # print(\n",
    "    #     \"GT on sentence (src->tgt): \",\n",
    "    #     translator.translate(sentence, src=source_name, dest=target_name).text,\n",
    "    # )\n",
    "    # print(\n",
    "    #     \"GT on prediction (tgt->src): \",\n",
    "    #     translator.translate(prediction, src=target_name, dest=source_name).text,\n",
    "    # )\n",
    "\n",
    "    if attn_scores_list[0] is not None:\n",
    "        if attn_scores_list[0][0] is not None:\n",
    "            attn_matrix = [x[0].data.cpu().numpy() for x in attn_scores_list]\n",
    "            attn_matrix = np.stack(attn_matrix)[:, :, 0]\n",
    "            showAttention(sentence, prediction, attn_matrix, title)\n",
    "\n",
    "\n",
    "def showAttention(input_sentence, output_words, attentions, title):\n",
    "    # Set up figure with colorbar\n",
    "    fig = plt.figure()\n",
    "    ax = fig.add_subplot(111)\n",
    "    cax = ax.matshow(attentions, cmap=\"bone\", aspect=\"auto\")\n",
    "    fig.colorbar(cax)\n",
    "\n",
    "    # Set up axes\n",
    "    ax.set_xticklabels(\n",
    "        [\"\"] + input_sentence.split(\" \") + [global_variables.EOS_TOKEN], rotation=90\n",
    "    )\n",
    "    ax.set_yticklabels([\"\"] + output_words.split(\" \") + [global_variables.EOS_TOKEN])\n",
    "\n",
    "    # Show label at every tick\n",
    "    ax.xaxis.set_major_locator(ticker.MultipleLocator(1))\n",
    "    ax.yaxis.set_major_locator(ticker.MultipleLocator(1))\n",
    "    path = os.path.join(\".\", \"results\", \"part3\", \"images\", title)\n",
    "    plt.savefig(path)\n",
    "    plt.show()"
   ]
  },
  {
   "cell_type": "code",
   "execution_count": 66,
   "metadata": {},
   "outputs": [
    {
     "name": "stdout",
     "output_type": "stream",
     "text": [
      "\n",
      "\n",
      "a good theory is <unk> by the fact that it makes a number of <unk> that could in principle be <unk> or <unk> by observation .\n",
      "une bonne theorie se <unk> par le fait de faire une serie de predictions qui en principe pourraient etre <unk> ou mises en defaut par l observation .\n",
      "source:  a good theory is <unk> by the fact that it makes a number of <unk> that could in principle be <unk> or <unk> by observation .\n",
      "prediction:  tout le monde est que ce soit un peu de gens qui ne mange que de l endroit ou un locuteur natif .\n",
      "source:  a good theory is <unk> by the fact that it makes a number of <unk> that could in principle be <unk> or <unk> by observation .\n",
      "prediction:  cela fait un bon moment que les gens se sont bien sur qu il soit en train de faire un peu de son travail .\n"
     ]
    },
    {
     "name": "stderr",
     "output_type": "stream",
     "text": [
      "<ipython-input-26-06834a10b52e>:59: UserWarning: FixedFormatter should only be used together with FixedLocator\n",
      "  ax.set_xticklabels(\n",
      "<ipython-input-26-06834a10b52e>:62: UserWarning: FixedFormatter should only be used together with FixedLocator\n",
      "  ax.set_yticklabels([\"\"] + output_words.split(\" \") + [global_variables.EOS_TOKEN])\n"
     ]
    },
    {
     "data": {
      "image/png": "[encoded data removed]",
      "text/plain": [
       "<Figure size 432x288 with 2 Axes>"
      ]
     },
     "metadata": {
      "needs_background": "light"
     },
     "output_type": "display_data"
    },
    {
     "name": "stdout",
     "output_type": "stream",
     "text": [
      "source:  a good theory is <unk> by the fact that it makes a number of <unk> that could in principle be <unk> or <unk> by observation .\n",
      "prediction:  ce qui pourrait etre un grand probleme est que l on pouvait etre en train d etre un des pays qui pouvait etre en train de se passer les autres .\n"
     ]
    },
    {
     "data": {
      "image/png": "[encoded data removed]",
      "text/plain": [
       "<Figure size 432x288 with 2 Axes>"
      ]
     },
     "metadata": {
      "needs_background": "light"
     },
     "output_type": "display_data"
    },
    {
     "name": "stdout",
     "output_type": "stream",
     "text": [
      "\n",
      "\n",
      "\n",
      "\n",
      "these three hours of driving have worn me out . let s stop at the first rest area we see .\n",
      "ces trois heures au volant m ont <unk> . arretons nous a la premiere <unk> de repos que nous verrons .\n",
      "source:  these three hours of driving have worn me out . let s stop at the first rest area we see .\n",
      "prediction:  au moins de trois heures je dois partir .\n",
      "source:  these three hours of driving have worn me out . let s stop at the first rest area we see .\n",
      "prediction:  allons nous faire la meme chose que le reste de la maison s est arrete .\n"
     ]
    },
    {
     "data": {
      "image/png": "[encoded data removed]",
      "text/plain": [
       "<Figure size 432x288 with 2 Axes>"
      ]
     },
     "metadata": {
      "needs_background": "light"
     },
     "output_type": "display_data"
    },
    {
     "name": "stdout",
     "output_type": "stream",
     "text": [
      "source:  these three hours of driving have worn me out . let s stop at the first rest area we see .\n",
      "prediction:  apres que nous nous sommes a la gare des deux fois plus de mes amis .\n"
     ]
    },
    {
     "data": {
      "image/png": "[encoded data removed]",
      "text/plain": [
       "<Figure size 432x288 with 2 Axes>"
      ]
     },
     "metadata": {
      "needs_background": "light"
     },
     "output_type": "display_data"
    },
    {
     "name": "stdout",
     "output_type": "stream",
     "text": [
      "\n",
      "\n",
      "\n",
      "\n",
      "i m sorry that i haven t been able to be here for you like i should have been .\n",
      "je suis desolee d avoir ete dans l incapacite d etre la pour toi comme j aurais du l etre .\n",
      "source:  i m sorry that i haven t been able to be here for you like i should have been .\n",
      "prediction:  je suis desole de ne pas avoir ete a l instant .\n",
      "source:  i m sorry that i haven t been able to be here for you like i should have been .\n",
      "prediction:  je n ai pas a croire que vous etiez en retard .\n"
     ]
    },
    {
     "data": {
      "image/png": "[encoded data removed]",
      "text/plain": [
       "<Figure size 432x288 with 2 Axes>"
      ]
     },
     "metadata": {
      "needs_background": "light"
     },
     "output_type": "display_data"
    },
    {
     "name": "stdout",
     "output_type": "stream",
     "text": [
      "source:  i m sorry that i haven t been able to be here for you like i should have been .\n",
      "prediction:  je suis desole d avoir ete a l instant que je devrais etre a toi .\n"
     ]
    },
    {
     "data": {
      "image/png": "[encoded data removed]",
      "text/plain": [
       "<Figure size 432x288 with 2 Axes>"
      ]
     },
     "metadata": {
      "needs_background": "light"
     },
     "output_type": "display_data"
    },
    {
     "name": "stdout",
     "output_type": "stream",
     "text": [
      "\n",
      "\n"
     ]
    }
   ],
   "source": [
    "def pick_val_examples():\n",
    "    batch = next(iter(dataloader_dict['val']))\n",
    "    t1 = batch[0][:3]\n",
    "    t2 = batch[1][:3]\n",
    "    t3 = batch[2][:3]\n",
    "    t4 = batch[3][:3]\n",
    "    return t1, t2, t3, t4\n",
    "\n",
    "def print_input_sequence(input):\n",
    "    print(source_lang_obj.vec2txt(input.tolist()))\n",
    "\n",
    "def print_output_sequence(output):\n",
    "    print(target_lang_obj.vec2txt(output.tolist()))\n",
    "\n",
    "def print_plot(input):\n",
    "    models = [model1, model2, model3]\n",
    "    titles = [\"encoder_decoder\", \"encoder_attentn\", \"encoder_attentn_decoder_self_attentn\"]\n",
    "    \n",
    "    for i, model in enumerate(models):\n",
    "        get_translation(model, source_lang_obj.vec2txt(input.tolist()), source_lang_obj, use_cuda, titles[i])\n",
    "\n",
    "t1, t2, t3, t4 = pick_val_examples()\n",
    "for i in range(3):\n",
    "    print(\"\\n\")\n",
    "    print_input_sequence(t1[i][:t2[i].item()])\n",
    "    print_output_sequence(t3[i][:t4[i].item()])\n",
    "    print_plot(t1[i][:t2[i].item()])\n",
    "    print(\"\\n\")"
   ]
  },
  {
   "cell_type": "code",
   "execution_count": null,
   "metadata": {},
   "outputs": [],
   "source": []
  }
 ],
 "metadata": {
  "accelerator": "GPU",
  "colab": {
   "collapsed_sections": [],
   "provenance": []
  },
  "gpuClass": "standard",
  "kernelspec": {
   "display_name": "Python 3 (ipykernel)",
   "language": "python",
   "name": "python3"
  },
  "language_info": {
   "codemirror_mode": {
    "name": "ipython",
    "version": 3
   },
   "file_extension": ".py",
   "mimetype": "text/x-python",
   "name": "python",
   "nbconvert_exporter": "python",
   "pygments_lexer": "ipython3",
   "version": "3.9.12"
  }
 },
 "nbformat": 4,
 "nbformat_minor": 1
}
